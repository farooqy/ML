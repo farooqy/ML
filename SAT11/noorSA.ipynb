{
 "cells": [
  {
   "cell_type": "markdown",
   "metadata": {
    "collapsed": true
   },
   "source": [
    "# from sklearn.ensemble import RandomForestRegressor"
   ]
  },
  {
   "cell_type": "code",
   "execution_count": 37,
   "metadata": {
    "collapsed": false
   },
   "outputs": [],
   "source": [
    "from numpy import genfromtxt, savetxt\n",
    "import graphlab\n",
    "from sklearn.model_selection import train_test_split\n",
    "from sklearn.ensemble import RandomForestRegressor"
   ]
  },
  {
   "cell_type": "code",
   "execution_count": 38,
   "metadata": {
    "collapsed": false
   },
   "outputs": [],
   "source": [
    "def load_data():\n",
    "    #using graphlab\n",
    "    dataset = graphlab.SFrame('SAT11_HAND-ai-perf.csv')\n",
    "    return dataset"
   ]
  },
  {
   "cell_type": "code",
   "execution_count": 39,
   "metadata": {
    "collapsed": false
   },
   "outputs": [],
   "source": [
    "def load_data_two():\n",
    "    #using genfromtxt numpy\n",
    "    dataset = genfromtxt('SAT11_HAND-ai-perf.csv')\n",
    "    return dataset"
   ]
  },
  {
   "cell_type": "code",
   "execution_count": 40,
   "metadata": {
    "collapsed": true
   },
   "outputs": [],
   "source": [
    "def get_train_test_data(dataset):#same function as train_test_data\n",
    "    #using the random split graphlab\n",
    "    data =[]\n",
    "    train_data, test_data = dataset.random_split(.8, seed=0)\n",
    "    data.append(train_data), data.append(test_data)\n",
    "    print train_data\n",
    "    return data"
   ]
  },
  {
   "cell_type": "code",
   "execution_count": 41,
   "metadata": {
    "collapsed": true
   },
   "outputs": [],
   "source": [
    "def load_features():\n",
    "    features = graphlab.SFrame('SAT11_HAND-features.txt')\n",
    "    return features"
   ]
  },
  {
   "cell_type": "code",
   "execution_count": 47,
   "metadata": {
    "collapsed": true
   },
   "outputs": [],
   "source": [
    "def build_model_one():\n",
    "    model = RandomForestRegressor(n_estimators=10, random_state=0)\n",
    "    return model"
   ]
  },
  {
   "cell_type": "code",
   "execution_count": 62,
   "metadata": {
    "collapsed": true
   },
   "outputs": [],
   "source": [
    "def build_model_two(train_data, n_target, test_data):\n",
    "    #using the graphlab linear regression\n",
    "    model = graphlab.linear_regression.create(train_data,target=n_target,\n",
    "                                             features=n_target,#error invalid type\n",
    "                                             validation_set=test_data)\n",
    "    return model"
   ]
  },
  {
   "cell_type": "code",
   "execution_count": 59,
   "metadata": {
    "collapsed": true
   },
   "outputs": [],
   "source": [
    "def train_test_data(dataset):#Same function as get_train_test_data\n",
    "    #using train_test_split of randomforest\n",
    "    # Error ValueError: Found input variables\n",
    "    #with inconsistent numbers of samples: [0, 296]\n",
    "    data= []\n",
    "    n_features = load_features()\n",
    "    x_train, x_test, y_train, y_test = train_test_split(\n",
    "    dataset, n_features, test_size=0.2, random_state=0)\n",
    "    data.append(x_train), data.append(x_test), data.append(y_train), data.append(y_test)\n",
    "    return data"
   ]
  },
  {
   "cell_type": "code",
   "execution_count": 60,
   "metadata": {
    "collapsed": true
   },
   "outputs": [],
   "source": [
    "def main():\n",
    "    data_set = load_data()\n",
    "    n_features = load_features()\n",
    "    train_test = get_train_test_data(data_set) #From the graphlab split\n",
    "    train_data = train_test[0]\n",
    "    test_data = train_test[1]\n",
    "    #model_one = build_model_one()#From scikit learn randomforestregressor\n",
    "    #fit_stat = model_one.fit(train_data, n_features)\n",
    "    #predicted_set_one = model_one.predict(test_data)\n",
    "    #Build model two from graphlab, linear_regression\n",
    "    model_two = build_model_two(train_data, n_features, test_data)   \n",
    "    #to get the error and the root mean square error\n",
    "    error, rmse = model_two.evaluate(test_data)\n",
    "    predicted_set_two = model_two.predict(test_data)\n",
    "    print \"Error: % \\n RMSE: %\" %error, rmse\n",
    "    #print \"SET ONE: \", predicted_set_one\n",
    "    print \"SET TWO: \", predicted_set_two"
   ]
  },
  {
   "cell_type": "code",
   "execution_count": 61,
   "metadata": {
    "collapsed": false
   },
   "outputs": [
    {
     "data": {
      "text/html": [
       "<pre>Finished parsing file /home/noor/Desktop/scripts/ML/SA/SAT11/SAT11_HAND-ai-perf.csv</pre>"
      ],
      "text/plain": [
       "Finished parsing file /home/noor/Desktop/scripts/ML/SA/SAT11/SAT11_HAND-ai-perf.csv"
      ]
     },
     "metadata": {},
     "output_type": "display_data"
    },
    {
     "data": {
      "text/html": [
       "<pre>Parsing completed. Parsed 15 lines in 0.023622 secs.</pre>"
      ],
      "text/plain": [
       "Parsing completed. Parsed 15 lines in 0.023622 secs."
      ]
     },
     "metadata": {},
     "output_type": "display_data"
    },
    {
     "name": "stdout",
     "output_type": "stream",
     "text": [
      "------------------------------------------------------\n",
      "Inferred types from first 100 line(s) of file as \n",
      "column_type_hints=[str,float,float,float,float,float,float,float,float,float,float,float,float,float,float,float,float,float,float,float,float,float,float,float,float,float,float,float,float,float,float,float,float,float,float,float,float,float,float,float,float,float,float,float,float,float,float,float,float,float,float,float,float,float,float,float,float,float,float,float,float,float,float,float,float,float,float,float,float,float,float,float,float,float,float,float,float,float,float,float,float,float,float,float,float,float,float,float,float,float,float,float,float,float,float,float,float,float,float,float,float,float,float,float,float,float,float,float,float,float,float,float,float,float,float,float,float,float,float,float,float,float,float,float,float,float,float,float,float,float,float,float,float,float,float,float,float,float,float,float,float,float,float,float,float,float,float,float,float,float,float,float,float,float,float,float,float,float,float,float,float,float,float,float,float,float,float,float,float,float,float,float,float,float,float,float,float,float,float,float,float,float,float,float,float,float,float,float,float,float,float,float,float,float,float,float,float,float,float,float,float,float,float,float,float,float,float,float,float,float,float,float,float,float,float,float,float,float,float,float,float,float,float,float,float,float,float,float,float,float,float,float,float,float,float,float,float,float,float,float,float,float,float,float,float,float,float,float,float,float,float,float,float,float,float,float,float,float,float,float,float,float,float,float,float,float,float,float,float,float,float,float,float,float,float,float,float,float,float,float,float,float,float,float,float,float,float,float,float,float,float,float,float,float,float,float,float]\n",
      "If parsing fails due to incorrect types, you can correct\n",
      "the inferred type list above and pass it to read_csv in\n",
      "the column_type_hints argument\n",
      "------------------------------------------------------\n"
     ]
    },
    {
     "data": {
      "text/html": [
       "<pre>Finished parsing file /home/noor/Desktop/scripts/ML/SA/SAT11/SAT11_HAND-ai-perf.csv</pre>"
      ],
      "text/plain": [
       "Finished parsing file /home/noor/Desktop/scripts/ML/SA/SAT11/SAT11_HAND-ai-perf.csv"
      ]
     },
     "metadata": {},
     "output_type": "display_data"
    },
    {
     "data": {
      "text/html": [
       "<pre>Parsing completed. Parsed 15 lines in 0.016025 secs.</pre>"
      ],
      "text/plain": [
       "Parsing completed. Parsed 15 lines in 0.016025 secs."
      ]
     },
     "metadata": {},
     "output_type": "display_data"
    },
    {
     "name": "stdout",
     "output_type": "stream",
     "text": [
      "Assuming file is csv. For other delimiters, please use `SFrame.read_csv`.\n"
     ]
    },
    {
     "data": {
      "text/html": [
       "<pre>Finished parsing file /home/noor/Desktop/scripts/ML/SA/SAT11/SAT11_HAND-features.txt</pre>"
      ],
      "text/plain": [
       "Finished parsing file /home/noor/Desktop/scripts/ML/SA/SAT11/SAT11_HAND-features.txt"
      ]
     },
     "metadata": {},
     "output_type": "display_data"
    },
    {
     "data": {
      "text/html": [
       "<pre>Parsing completed. Parsed 100 lines in 0.026434 secs.</pre>"
      ],
      "text/plain": [
       "Parsing completed. Parsed 100 lines in 0.026434 secs."
      ]
     },
     "metadata": {},
     "output_type": "display_data"
    },
    {
     "name": "stdout",
     "output_type": "stream",
     "text": [
      "------------------------------------------------------\n",
      "Inferred types from first 100 line(s) of file as \n",
      "column_type_hints=[str,float,float,float,float,float,float,float,float,float,float,float,float,float,float,float,float,float,float,float,float,float,float,float,float,float,float,float,float,float,float,float,float,float,float,float,float,float,float,float,float,float,float,float,float,float,float,float,float,float,float,float,float,float,float,float,float,float,float,float,float,float,float,float,float,float,float,float,float,float,float,float,float,float,float,float,float,float,float,float,float,float,float,float,float,float,float,float,float,float,float,float,float,float,float,float,float,float,float,float,float,float,float,float,float,float,float,float,float,float,float,float,float,float,float,float]\n",
      "If parsing fails due to incorrect types, you can correct\n",
      "the inferred type list above and pass it to read_csv in\n",
      "the column_type_hints argument\n",
      "------------------------------------------------------\n"
     ]
    },
    {
     "data": {
      "text/html": [
       "<pre>Finished parsing file /home/noor/Desktop/scripts/ML/SA/SAT11/SAT11_HAND-features.txt</pre>"
      ],
      "text/plain": [
       "Finished parsing file /home/noor/Desktop/scripts/ML/SA/SAT11/SAT11_HAND-features.txt"
      ]
     },
     "metadata": {},
     "output_type": "display_data"
    },
    {
     "data": {
      "text/html": [
       "<pre>Parsing completed. Parsed 296 lines in 0.023011 secs.</pre>"
      ],
      "text/plain": [
       "Parsing completed. Parsed 296 lines in 0.023011 secs."
      ]
     },
     "metadata": {},
     "output_type": "display_data"
    },
    {
     "name": "stdout",
     "output_type": "stream",
     "text": [
      "+-------------------------------+-------------------------------+\n",
      "|               X1              | ./SAT11/crafted/kullmann/V... |\n",
      "+-------------------------------+-------------------------------+\n",
      "|      MPhaseSAT_2011-02-15     |            63.0224            |\n",
      "|         Sol_2011-04-04        |            248.176            |\n",
      "|   QuteRSat_2011-05-12_fixed_  |            605.163            |\n",
      "| CryptoMiniSat_Strange-Nigh... |            370.149            |\n",
      "|          PicoSAT_941          |            21.8547            |\n",
      "|           glucose_2           |            171.741            |\n",
      "|    clasp_2.0-R4092-crafted    |            125.082            |\n",
      "| SAT07referencesolverminisa... |            29.2286            |\n",
      "|         jMiniSat_2011         |            1113.29            |\n",
      "|         RestartSAT_B95        |            137.426            |\n",
      "+-------------------------------+-------------------------------+\n",
      "+-------------------------------+-------------------------------+\n",
      "| ./SAT03/handmade/anton/UNS... | ./SAT11/crafted/kullmann/V... |\n",
      "+-------------------------------+-------------------------------+\n",
      "|       1.79769313486e+308      |       1.79769313486e+308      |\n",
      "|       1.79769313486e+308      |       1.79769313486e+308      |\n",
      "|       1.79769313486e+308      |       1.79769313486e+308      |\n",
      "|       1.79769313486e+308      |       1.79769313486e+308      |\n",
      "|       1.79769313486e+308      |       1.79769313486e+308      |\n",
      "|       1.79769313486e+308      |       1.79769313486e+308      |\n",
      "|       1.79769313486e+308      |       1.79769313486e+308      |\n",
      "|       1.79769313486e+308      |       1.79769313486e+308      |\n",
      "|       1.79769313486e+308      |       1.79769313486e+308      |\n",
      "|       1.79769313486e+308      |       1.79769313486e+308      |\n",
      "+-------------------------------+-------------------------------+\n",
      "+-------------------------------+-------------------------------+\n",
      "| ./SAT09/CRAFTED/rbsat/rand... | ./SAT11/crafted/spence/sge... |\n",
      "+-------------------------------+-------------------------------+\n",
      "|       1.79769313486e+308      |            2.56261            |\n",
      "|       1.79769313486e+308      |       1.79769313486e+308      |\n",
      "|       1.79769313486e+308      |       1.79769313486e+308      |\n",
      "|       1.79769313486e+308      |       1.79769313486e+308      |\n",
      "|       1.79769313486e+308      |            1164.27            |\n",
      "|       1.79769313486e+308      |       1.79769313486e+308      |\n",
      "|       1.79769313486e+308      |            4713.39            |\n",
      "|       1.79769313486e+308      |       1.79769313486e+308      |\n",
      "|       1.79769313486e+308      |            967.822            |\n",
      "|       1.79769313486e+308      |            319.283            |\n",
      "+-------------------------------+-------------------------------+\n",
      "+-------------------------------+-------------------------------+-------------------------------+\n",
      "| ./SAT11/crafted/anton/SRHD... | ./SAT11/crafted/skvortsov/... | ./SAT11/crafted/skvortsov/... |\n",
      "+-------------------------------+-------------------------------+-------------------------------+\n",
      "|            38.5801            |       1.79769313486e+308      |             5.2552            |\n",
      "|            0.277957           |       1.79769313486e+308      |            1.04184            |\n",
      "|            1143.09            |       1.79769313486e+308      |            7.74682            |\n",
      "|            753.968            |       1.79769313486e+308      |            13.8289            |\n",
      "|       1.79769313486e+308      |       1.79769313486e+308      |            1.21281            |\n",
      "|            156.264            |       1.79769313486e+308      |            3.19651            |\n",
      "|            478.135            |       1.79769313486e+308      |            2.20266            |\n",
      "|       1.79769313486e+308      |       1.79769313486e+308      |            0.922859           |\n",
      "|       1.79769313486e+308      |       1.79769313486e+308      |            3.74943            |\n",
      "|       1.79769313486e+308      |       1.79769313486e+308      |            1.21581            |\n",
      "+-------------------------------+-------------------------------+-------------------------------+\n",
      "+-------------------------------+-------------------------------+\n",
      "| ./SAT11/crafted/anton/SRHD... | ./SAT11/crafted/kullmann/V... |\n",
      "+-------------------------------+-------------------------------+\n",
      "|            102.686            |             2969.2            |\n",
      "|            27.6148            |            1452.71            |\n",
      "|            92.7859            |            36.7904            |\n",
      "|            5.12822            |            1234.43            |\n",
      "|            41.6187            |            169.279            |\n",
      "|            26.7999            |            363.328            |\n",
      "|            42.5665            |             32.864            |\n",
      "|            528.412            |            668.302            |\n",
      "|             875.12            |            656.855            |\n",
      "|            370.601            |            315.535            |\n",
      "+-------------------------------+-------------------------------+\n",
      "+-------------------------------+-------------------------------+\n",
      "| ./SAT03/handmade/stanion/h... | ./SAT11/crafted/spence/sge... |\n",
      "+-------------------------------+-------------------------------+\n",
      "|       1.79769313486e+308      |       1.79769313486e+308      |\n",
      "|       1.79769313486e+308      |       1.79769313486e+308      |\n",
      "|       1.79769313486e+308      |       1.79769313486e+308      |\n",
      "|       1.79769313486e+308      |       1.79769313486e+308      |\n",
      "|            3326.88            |       1.79769313486e+308      |\n",
      "|       1.79769313486e+308      |       1.79769313486e+308      |\n",
      "|       1.79769313486e+308      |       1.79769313486e+308      |\n",
      "|       1.79769313486e+308      |       1.79769313486e+308      |\n",
      "|       1.79769313486e+308      |       1.79769313486e+308      |\n",
      "|       1.79769313486e+308      |       1.79769313486e+308      |\n",
      "+-------------------------------+-------------------------------+\n",
      "+-------------------------------+-------------------------------+\n",
      "| ./SAT03/handmade/anton/UNS... | ./SAT11/crafted/mosoi/289/... |\n",
      "+-------------------------------+-------------------------------+\n",
      "|       1.79769313486e+308      |       1.79769313486e+308      |\n",
      "|       1.79769313486e+308      |       1.79769313486e+308      |\n",
      "|       1.79769313486e+308      |       1.79769313486e+308      |\n",
      "|       1.79769313486e+308      |       1.79769313486e+308      |\n",
      "|            4293.71            |       1.79769313486e+308      |\n",
      "|       1.79769313486e+308      |       1.79769313486e+308      |\n",
      "|             2450.6            |       1.79769313486e+308      |\n",
      "|            4281.81            |       1.79769313486e+308      |\n",
      "|       1.79769313486e+308      |       1.79769313486e+308      |\n",
      "|       1.79769313486e+308      |       1.79769313486e+308      |\n",
      "+-------------------------------+-------------------------------+\n",
      "+-------------------------------+-------------------------------+\n",
      "| ./SAT03/handmade/gomes/bqw... | ./SAT02/handmade/pehoushek... |\n",
      "+-------------------------------+-------------------------------+\n",
      "|       1.79769313486e+308      |            0.018996           |\n",
      "|       1.79769313486e+308      |            0.06199            |\n",
      "|       1.79769313486e+308      |            0.039993           |\n",
      "|       1.79769313486e+308      |            0.008997           |\n",
      "|       1.79769313486e+308      |            0.003999           |\n",
      "|       1.79769313486e+308      |            0.006998           |\n",
      "|       1.79769313486e+308      |            0.005999           |\n",
      "|       1.79769313486e+308      |            0.005999           |\n",
      "|       1.79769313486e+308      |            0.336948           |\n",
      "|       1.79769313486e+308      |            0.004999           |\n",
      "+-------------------------------+-------------------------------+\n",
      "+-------------------------------+-------------------------------+\n",
      "| ./SAT09/CRAFTED/rbsat/rand... | ./SAT11/crafted/anton/SRHD... |\n",
      "+-------------------------------+-------------------------------+\n",
      "|       1.79769313486e+308      |       1.79769313486e+308      |\n",
      "|       1.79769313486e+308      |       1.79769313486e+308      |\n",
      "|       1.79769313486e+308      |       1.79769313486e+308      |\n",
      "|       1.79769313486e+308      |       1.79769313486e+308      |\n",
      "|       1.79769313486e+308      |       1.79769313486e+308      |\n",
      "|       1.79769313486e+308      |       1.79769313486e+308      |\n",
      "|       1.79769313486e+308      |       1.79769313486e+308      |\n",
      "|       1.79769313486e+308      |       1.79769313486e+308      |\n",
      "|       1.79769313486e+308      |       1.79769313486e+308      |\n",
      "|       1.79769313486e+308      |       1.79769313486e+308      |\n",
      "+-------------------------------+-------------------------------+\n",
      "+-------------------------------+-----+\n",
      "| ./SAT11/crafted/skvortsov/... | ... |\n",
      "+-------------------------------+-----+\n",
      "|       1.79769313486e+308      | ... |\n",
      "|       1.79769313486e+308      | ... |\n",
      "|       1.79769313486e+308      | ... |\n",
      "|       1.79769313486e+308      | ... |\n",
      "|       1.79769313486e+308      | ... |\n",
      "|       1.79769313486e+308      | ... |\n",
      "|       1.79769313486e+308      | ... |\n",
      "|       1.79769313486e+308      | ... |\n",
      "|       1.79769313486e+308      | ... |\n",
      "|       1.79769313486e+308      | ... |\n",
      "+-------------------------------+-----+\n",
      "[? rows x 297 columns]\n",
      "Note: Only the head of the SFrame is printed. This SFrame is lazily evaluated.\n",
      "You can use sf.materialize() to force materialization.\n"
     ]
    },
    {
     "ename": "TypeError",
     "evalue": "Invalid key type: must be str, bytes or type",
     "output_type": "error",
     "traceback": [
      "\u001b[0;31m---------------------------------------------------------------------------\u001b[0m",
      "\u001b[0;31mTypeError\u001b[0m                                 Traceback (most recent call last)",
      "\u001b[0;32m<ipython-input-61-ba74eec201ff>\u001b[0m in \u001b[0;36m<module>\u001b[0;34m()\u001b[0m\n\u001b[1;32m      1\u001b[0m \u001b[0;32mif\u001b[0m \u001b[0m__name__\u001b[0m\u001b[0;34m==\u001b[0m\u001b[0;34m'__main__'\u001b[0m \u001b[0;34m:\u001b[0m\u001b[0;34m\u001b[0m\u001b[0m\n\u001b[0;32m----> 2\u001b[0;31m     \u001b[0mmain\u001b[0m\u001b[0;34m(\u001b[0m\u001b[0;34m)\u001b[0m\u001b[0;34m\u001b[0m\u001b[0m\n\u001b[0m",
      "\u001b[0;32m<ipython-input-60-a5fe35c41e2a>\u001b[0m in \u001b[0;36mmain\u001b[0;34m()\u001b[0m\n\u001b[1;32m      9\u001b[0m     \u001b[0;31m#predicted_set_one = model_one.predict(test_data)\u001b[0m\u001b[0;34m\u001b[0m\u001b[0;34m\u001b[0m\u001b[0m\n\u001b[1;32m     10\u001b[0m     \u001b[0;31m#Build model two from graphlab, linear_regression\u001b[0m\u001b[0;34m\u001b[0m\u001b[0;34m\u001b[0m\u001b[0m\n\u001b[0;32m---> 11\u001b[0;31m     \u001b[0mmodel_two\u001b[0m \u001b[0;34m=\u001b[0m \u001b[0mbuild_model_two\u001b[0m\u001b[0;34m(\u001b[0m\u001b[0mtrain_data\u001b[0m\u001b[0;34m,\u001b[0m \u001b[0mn_features\u001b[0m\u001b[0;34m,\u001b[0m \u001b[0mtest_data\u001b[0m\u001b[0;34m)\u001b[0m\u001b[0;34m\u001b[0m\u001b[0m\n\u001b[0m\u001b[1;32m     12\u001b[0m     \u001b[0;31m#to get the error and the root mean square error\u001b[0m\u001b[0;34m\u001b[0m\u001b[0;34m\u001b[0m\u001b[0m\n\u001b[1;32m     13\u001b[0m     \u001b[0merror\u001b[0m\u001b[0;34m,\u001b[0m \u001b[0mrmse\u001b[0m \u001b[0;34m=\u001b[0m \u001b[0mmodel_two\u001b[0m\u001b[0;34m.\u001b[0m\u001b[0mevaluate\u001b[0m\u001b[0;34m(\u001b[0m\u001b[0mtest_data\u001b[0m\u001b[0;34m)\u001b[0m\u001b[0;34m\u001b[0m\u001b[0m\n",
      "\u001b[0;32m<ipython-input-58-fe162811ab9b>\u001b[0m in \u001b[0;36mbuild_model_two\u001b[0;34m(train_data, n_target, test_data)\u001b[0m\n\u001b[1;32m      3\u001b[0m     model = graphlab.linear_regression.create(train_data,target=n_target,\n\u001b[1;32m      4\u001b[0m                                              \u001b[0mfeatures\u001b[0m\u001b[0;34m=\u001b[0m\u001b[0mn_target\u001b[0m\u001b[0;34m,\u001b[0m\u001b[0;34m\u001b[0m\u001b[0m\n\u001b[0;32m----> 5\u001b[0;31m                                              validation_set=test_data)\n\u001b[0m\u001b[1;32m      6\u001b[0m     \u001b[0;32mreturn\u001b[0m \u001b[0mmodel\u001b[0m\u001b[0;34m\u001b[0m\u001b[0m\n",
      "\u001b[0;32m/usr/local/lib/python2.7/dist-packages/graphlab/toolkits/regression/linear_regression.pyc\u001b[0m in \u001b[0;36mcreate\u001b[0;34m(dataset, target, features, l2_penalty, l1_penalty, solver, feature_rescaling, convergence_threshold, step_size, lbfgs_memory_level, max_iterations, validation_set, verbose)\u001b[0m\n\u001b[1;32m    284\u001b[0m                         \u001b[0mstep_size\u001b[0m \u001b[0;34m=\u001b[0m \u001b[0mstep_size\u001b[0m\u001b[0;34m,\u001b[0m\u001b[0;34m\u001b[0m\u001b[0m\n\u001b[1;32m    285\u001b[0m                         \u001b[0mlbfgs_memory_level\u001b[0m \u001b[0;34m=\u001b[0m \u001b[0mlbfgs_memory_level\u001b[0m\u001b[0;34m,\u001b[0m\u001b[0;34m\u001b[0m\u001b[0m\n\u001b[0;32m--> 286\u001b[0;31m                         max_iterations = max_iterations)\n\u001b[0m\u001b[1;32m    287\u001b[0m \u001b[0;34m\u001b[0m\u001b[0m\n\u001b[1;32m    288\u001b[0m     \u001b[0;32mreturn\u001b[0m \u001b[0mLinearRegression\u001b[0m\u001b[0;34m(\u001b[0m\u001b[0mmodel\u001b[0m\u001b[0;34m.\u001b[0m\u001b[0m__proxy__\u001b[0m\u001b[0;34m)\u001b[0m\u001b[0;34m\u001b[0m\u001b[0m\n",
      "\u001b[0;32m/usr/local/lib/python2.7/dist-packages/graphlab/toolkits/_supervised_learning.pyc\u001b[0m in \u001b[0;36mcreate\u001b[0;34m(dataset, target, model_name, features, validation_set, verbose, distributed, **kwargs)\u001b[0m\n\u001b[1;32m    398\u001b[0m \u001b[0;34m\u001b[0m\u001b[0m\n\u001b[1;32m    399\u001b[0m     \u001b[0;31m# Target\u001b[0m\u001b[0;34m\u001b[0m\u001b[0;34m\u001b[0m\u001b[0m\n\u001b[0;32m--> 400\u001b[0;31m     \u001b[0mtarget_sframe\u001b[0m \u001b[0;34m=\u001b[0m \u001b[0m_toolkits_select_columns\u001b[0m\u001b[0;34m(\u001b[0m\u001b[0mdataset\u001b[0m\u001b[0;34m,\u001b[0m \u001b[0;34m[\u001b[0m\u001b[0mtarget\u001b[0m\u001b[0;34m]\u001b[0m\u001b[0;34m)\u001b[0m\u001b[0;34m\u001b[0m\u001b[0m\n\u001b[0m\u001b[1;32m    401\u001b[0m \u001b[0;34m\u001b[0m\u001b[0m\n\u001b[1;32m    402\u001b[0m     \u001b[0;31m# Features\u001b[0m\u001b[0;34m\u001b[0m\u001b[0;34m\u001b[0m\u001b[0m\n",
      "\u001b[0;32m/usr/local/lib/python2.7/dist-packages/graphlab/toolkits/_internal_utils.pyc\u001b[0m in \u001b[0;36m_toolkits_select_columns\u001b[0;34m(dataset, columns)\u001b[0m\n\u001b[1;32m    347\u001b[0m     \"\"\"\n\u001b[1;32m    348\u001b[0m     \u001b[0;32mtry\u001b[0m\u001b[0;34m:\u001b[0m\u001b[0;34m\u001b[0m\u001b[0m\n\u001b[0;32m--> 349\u001b[0;31m         \u001b[0;32mreturn\u001b[0m \u001b[0mdataset\u001b[0m\u001b[0;34m.\u001b[0m\u001b[0mselect_columns\u001b[0m\u001b[0;34m(\u001b[0m\u001b[0mcolumns\u001b[0m\u001b[0;34m)\u001b[0m\u001b[0;34m\u001b[0m\u001b[0m\n\u001b[0m\u001b[1;32m    350\u001b[0m \u001b[0;34m\u001b[0m\u001b[0m\n\u001b[1;32m    351\u001b[0m     \u001b[0;32mexcept\u001b[0m \u001b[0mRuntimeError\u001b[0m\u001b[0;34m:\u001b[0m\u001b[0;34m\u001b[0m\u001b[0m\n",
      "\u001b[0;32m/usr/local/lib/python2.7/dist-packages/graphlab/data_structures/sframe.pyc\u001b[0m in \u001b[0;36mselect_columns\u001b[0;34m(self, keylist)\u001b[0m\n\u001b[1;32m   3647\u001b[0m         if not (all([isinstance(x, str) or isinstance(x, type) or isinstance(x, bytes)\n\u001b[1;32m   3648\u001b[0m                      for x in keylist])):\n\u001b[0;32m-> 3649\u001b[0;31m             \u001b[0;32mraise\u001b[0m \u001b[0mTypeError\u001b[0m\u001b[0;34m(\u001b[0m\u001b[0;34m\"Invalid key type: must be str, bytes or type\"\u001b[0m\u001b[0;34m)\u001b[0m\u001b[0;34m\u001b[0m\u001b[0m\n\u001b[0m\u001b[1;32m   3650\u001b[0m \u001b[0;34m\u001b[0m\u001b[0m\n\u001b[1;32m   3651\u001b[0m         \u001b[0mcolumn_names_set\u001b[0m \u001b[0;34m=\u001b[0m \u001b[0mset\u001b[0m\u001b[0;34m(\u001b[0m\u001b[0mself\u001b[0m\u001b[0;34m.\u001b[0m\u001b[0mcolumn_names\u001b[0m\u001b[0;34m(\u001b[0m\u001b[0;34m)\u001b[0m\u001b[0;34m)\u001b[0m\u001b[0;34m\u001b[0m\u001b[0m\n",
      "\u001b[0;31mTypeError\u001b[0m: Invalid key type: must be str, bytes or type"
     ]
    }
   ],
   "source": [
    "if __name__=='__main__' :\n",
    "    main()"
   ]
  },
  {
   "cell_type": "code",
   "execution_count": null,
   "metadata": {
    "collapsed": true
   },
   "outputs": [],
   "source": []
  }
 ],
 "metadata": {
  "kernelspec": {
   "display_name": "Python 2",
   "language": "python",
   "name": "python2"
  },
  "language_info": {
   "codemirror_mode": {
    "name": "ipython",
    "version": 2
   },
   "file_extension": ".py",
   "mimetype": "text/x-python",
   "name": "python",
   "nbconvert_exporter": "python",
   "pygments_lexer": "ipython2",
   "version": "2.7.12+"
  }
 },
 "nbformat": 4,
 "nbformat_minor": 2
}
