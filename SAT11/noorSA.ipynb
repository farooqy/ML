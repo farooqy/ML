{
 "cells": [
  {
   "cell_type": "code",
   "execution_count": 38,
   "metadata": {
    "collapsed": true
   },
   "outputs": [],
   "source": [
    "from sklearn.ensemble import RandomForestRegressor"
   ]
  },
  {
   "cell_type": "code",
   "execution_count": 23,
   "metadata": {
    "collapsed": true
   },
   "outputs": [],
   "source": [
    "from numpy import genfromtxt, savetxt\n",
    "import graphlab\n",
    "from sklearn.model_selection import train_test_split"
   ]
  },
  {
   "cell_type": "code",
   "execution_count": 16,
   "metadata": {
    "collapsed": false
   },
   "outputs": [],
   "source": [
    "def load_data():\n",
    "    dataset = graphlab.SFrame('SAT11_HAND-cv.txt')\n",
    "    return dataset"
   ]
  },
  {
   "cell_type": "code",
   "execution_count": 50,
   "metadata": {
    "collapsed": true
   },
   "outputs": [],
   "source": [
    "def get_train_test_data(dataset):\n",
    "    #using the random split graphlab\n",
    "    data =[]\n",
    "    train_data, test_data = dataset.random_split(.8, seed=0)\n",
    "    data.append(train_data), data.append(test_data)\n",
    "    print train_data\n",
    "    return data"
   ]
  },
  {
   "cell_type": "code",
   "execution_count": 27,
   "metadata": {
    "collapsed": true
   },
   "outputs": [],
   "source": [
    "def load_features():\n",
    "    features =graphlab.SFrame('SAT11_HAND-features.txt')\n",
    "    return features"
   ]
  },
  {
   "cell_type": "code",
   "execution_count": 40,
   "metadata": {
    "collapsed": true
   },
   "outputs": [],
   "source": [
    "def build_model():\n",
    "    model =  RandomForestRegressor(n_estimators=10, random_state=0)\n",
    "    return model"
   ]
  },
  {
   "cell_type": "code",
   "execution_count": 31,
   "metadata": {
    "collapsed": true
   },
   "outputs": [],
   "source": [
    "def train_test_data(dataset):\n",
    "    #using train_test_split of randomforest\n",
    "    # Error ValueError: Found input variables\n",
    "    #with inconsistent numbers of samples: [0, 296]\n",
    "    data_sets = []\n",
    "    n_features = load_features()\n",
    "    x_train, x_test, y_train, y_test = train_test_split(\n",
    "    dataset, n_features, test_size=0.2, random_state=0)\n",
    "    data.append(x_train), data.append(x_test), data.append(y_train), data.append(y_test)\n",
    "    return data"
   ]
  },
  {
   "cell_type": "code",
   "execution_count": 42,
   "metadata": {
    "collapsed": true
   },
   "outputs": [],
   "source": [
    "def main():\n",
    "    data_set = load_data()\n",
    "    n_features = load_features()\n",
    "    train_test = get_train_test_data(data_set)\n",
    "    train_data = train_test[0]\n",
    "    test_data = train_test[1]\n",
    "    model = build_model()\n",
    "    fit_stat = model.fit(train_data, n_features)\n",
    "    predicted_set = model.predict(x_test)\n",
    "    print predicted_set\n",
    "    "
   ]
  },
  {
   "cell_type": "code",
   "execution_count": null,
   "metadata": {
    "collapsed": true
   },
   "outputs": [],
   "source": []
  }
 ],
 "metadata": {
  "kernelspec": {
   "display_name": "Python 2",
   "language": "python",
   "name": "python2"
  },
  "language_info": {
   "codemirror_mode": {
    "name": "ipython",
    "version": 2
   },
   "file_extension": ".py",
   "mimetype": "text/x-python",
   "name": "python",
   "nbconvert_exporter": "python",
   "pygments_lexer": "ipython2",
   "version": "2.7.12+"
  }
 },
 "nbformat": 4,
 "nbformat_minor": 2
}
